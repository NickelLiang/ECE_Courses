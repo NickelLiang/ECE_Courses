{
 "cells": [
  {
   "cell_type": "code",
   "execution_count": 2,
   "metadata": {},
   "outputs": [
    {
     "name": "stdout",
     "output_type": "stream",
     "text": [
      "Modules Imported!\n"
     ]
    }
   ],
   "source": [
    "%matplotlib inline\n",
    "import matplotlib.pyplot as plt\n",
    "import matplotlib.image as img\n",
    "import numpy as np\n",
    "import scipy as sp\n",
    "import scipy.stats as st\n",
    "import pickle as pkl\n",
    "import csv as csv\n",
    "print \"Modules Imported!\""
   ]
  },
  {
   "cell_type": "code",
   "execution_count": 11,
   "metadata": {},
   "outputs": [
    {
     "name": "stdout",
     "output_type": "stream",
     "text": [
      "[2, 3, 4, 5, 6, 7, 3, 4, 5, 6, 7, 8, 4, 5, 6, 7, 8, 9, 5, 6, 7, 8, 9, 10, 6, 7, 8, 9, 10, 11, 7, 8, 9, 10, 11, 12]\n",
      "7.0\n"
     ]
    }
   ],
   "source": [
    "i = (1,2,3,4,5,6)\n",
    "j = (1,2,3,4,5,6)\n",
    "\n",
    "x = []\n",
    "for k in range(1, 7):\n",
    "    for q in range(1, 7):\n",
    "        a = i[k-1]+j[q-1]\n",
    "        x.append(a)\n",
    "print x\n",
    "\n",
    "n = 0\n",
    "for k in range(1, 37):\n",
    "    n = n + x[k-1]\n",
    "    \n",
    "q = n/36.\n",
    "\n",
    "print q"
   ]
  }
 ],
 "metadata": {
  "kernelspec": {
   "display_name": "ECE314-py2",
   "language": "python",
   "name": "python2"
  },
  "language_info": {
   "codemirror_mode": {
    "name": "ipython",
    "version": 2
   },
   "file_extension": ".py",
   "mimetype": "text/x-python",
   "name": "python",
   "nbconvert_exporter": "python",
   "pygments_lexer": "ipython2",
   "version": "2.7.13"
  }
 },
 "nbformat": 4,
 "nbformat_minor": 2
}
